{
 "cells": [
  {
   "cell_type": "markdown",
   "metadata": {},
   "source": [
    "# mlflow Reproducibility\n",
    "\n",
    "This notebook demonstrates mlflow's capability to reproduce results from experimental runs.\n",
    "\n",
    "By providing the unique identifier for a run, this notebook will retrieve the model and training and test data sets for that run, retrain the model on the training data and calculate the metric score on the test data."
   ]
  },
  {
   "cell_type": "code",
   "execution_count": 1,
   "metadata": {},
   "outputs": [],
   "source": [
    "from __future__ import print_function"
   ]
  },
  {
   "cell_type": "code",
   "execution_count": 2,
   "metadata": {},
   "outputs": [],
   "source": [
    "import os\n",
    "import os.path\n",
    "import socket\n",
    "import pandas as pd\n",
    "import tempfile\n",
    "import pickle\n",
    "import shutil\n",
    "import scipy.stats\n",
    "from sklearn.model_selection import RandomizedSearchCV, train_test_split\n",
    "from sklearn.linear_model import ElasticNet\n",
    "import mlflow\n",
    "import mlflow.sklearn\n",
    "import mlflow.tracking\n"
   ]
  },
  {
   "cell_type": "markdown",
   "metadata": {},
   "source": [
    "## Set up connection to mlflow tracking server"
   ]
  },
  {
   "cell_type": "code",
   "execution_count": 3,
   "metadata": {},
   "outputs": [],
   "source": [
    "host_name = \"mlflow_server\" #socket.gethostname()\n",
    "BASE_URL = 'http://' + host_name +':5000'\n",
    "\n",
    "\n",
    "client = mlflow.tracking.MlflowClient(BASE_URL)\n"
   ]
  },
  {
   "cell_type": "code",
   "execution_count": 4,
   "metadata": {},
   "outputs": [
    {
     "name": "stdout",
     "output_type": "stream",
     "text": [
      "experiement: mlflow_demo1\n",
      "experiement: mlflow_demo2\n"
     ]
    }
   ],
   "source": [
    "for e in client.list_experiments():\n",
    "    print('experiement:', e.name)"
   ]
  },
  {
   "cell_type": "markdown",
   "metadata": {},
   "source": [
    "## Specify Run identifier to retrieve model and data"
   ]
  },
  {
   "cell_type": "code",
   "execution_count": 16,
   "metadata": {},
   "outputs": [],
   "source": [
    "RUN_UUID = 'd19419a5805540ca8973e1ddd52b366c'"
   ]
  },
  {
   "cell_type": "markdown",
   "metadata": {},
   "source": [
    "## Retrieve training/test data sets from run"
   ]
  },
  {
   "cell_type": "code",
   "execution_count": 17,
   "metadata": {},
   "outputs": [
    {
     "name": "stdout",
     "output_type": "stream",
     "text": [
      "contents of data download directory /tmp/tmpq6pdekem/data_sets ['data.pkl']\n"
     ]
    }
   ],
   "source": [
    "# retrieve pickled data file\n",
    "data_dir = client.download_artifacts(RUN_UUID,'data_sets')\n",
    "print(\"contents of data download directory\",data_dir,os.listdir(data_dir))\n"
   ]
  },
  {
   "cell_type": "code",
   "execution_count": 18,
   "metadata": {},
   "outputs": [
    {
     "data": {
      "text/plain": [
       "'/tmp/tmpq6pdekem/data_sets/data.pkl'"
      ]
     },
     "execution_count": 18,
     "metadata": {},
     "output_type": "execute_result"
    }
   ],
   "source": [
    "os.path.join(data_dir,os.listdir(data_dir)[0])"
   ]
  },
  {
   "cell_type": "code",
   "execution_count": 19,
   "metadata": {},
   "outputs": [],
   "source": [
    "# unpickle training and test data\n",
    "with open(os.path.join(data_dir,os.listdir(data_dir)[0]),'rb') as f:\n",
    "    data = pickle.load(f)"
   ]
  },
  {
   "cell_type": "code",
   "execution_count": 20,
   "metadata": {},
   "outputs": [
    {
     "data": {
      "text/plain": [
       "array([[ 0.39624274, -0.37825504, -0.80060088, -0.9399674 , -0.02735814,\n",
       "        -1.04506461,  0.54772967, -0.70723951,  0.41334757,  0.34770965,\n",
       "         0.5554772 ],\n",
       "       [ 0.87268093,  0.53201882,  0.62459925,  1.46345779, -0.02735814,\n",
       "         0.52710899,  1.40504061,  1.68361317, -0.04858051,  1.31198399,\n",
       "        -1.15740449],\n",
       "       [ 0.15802364, -0.07483042, -0.12991847,  0.08148831,  0.06784456,\n",
       "         0.70851364,  1.30978384, -0.0733535 ,  0.28136812, -0.87954861,\n",
       "         0.71860879],\n",
       "       [ 0.39624274, -0.7828212 ,  0.03775213, -0.73968196, -0.64617568,\n",
       "         0.82945007,  0.30958775, -1.38246592, -0.18055996, -0.87954861,\n",
       "         1.77896413],\n",
       "       [-1.39040049, -0.22654273,  2.63664649, -1.04011011,  1.59108772,\n",
       "        -1.10553282, -0.02381095, -0.32484088,  0.08339894, -0.6165647 ,\n",
       "        -0.91270711]])"
      ]
     },
     "execution_count": 20,
     "metadata": {},
     "output_type": "execute_result"
    }
   ],
   "source": [
    "data['train_x'][:5]"
   ]
  },
  {
   "cell_type": "markdown",
   "metadata": {},
   "source": [
    "## Retrieve Model"
   ]
  },
  {
   "cell_type": "code",
   "execution_count": 21,
   "metadata": {},
   "outputs": [
    {
     "name": "stdout",
     "output_type": "stream",
     "text": [
      "contents of model download directory /tmp/tmpuwnq011u/best_estimator ['MLmodel', 'conda.yaml', 'model.pkl']\n"
     ]
    }
   ],
   "source": [
    "# retrieve pickled data file\n",
    "model_dir = client.download_artifacts(RUN_UUID,'best_estimator')\n",
    "print(\"contents of model download directory\",model_dir,os.listdir(model_dir))\n"
   ]
  },
  {
   "cell_type": "code",
   "execution_count": 22,
   "metadata": {},
   "outputs": [
    {
     "data": {
      "text/plain": [
       "XGBRegressor(base_score=0.5, booster='gbtree', colsample_bylevel=1,\n",
       "       colsample_bytree=1, gamma=0, learning_rate=0.058512491882074746,\n",
       "       max_delta_step=0, max_depth=6, min_child_weight=1, missing=nan,\n",
       "       n_estimators=453, n_jobs=1, nthread=None, objective='reg:linear',\n",
       "       random_state=13, reg_alpha=0, reg_lambda=1, scale_pos_weight=1,\n",
       "       seed=None, silent=True, subsample=1)"
      ]
     },
     "execution_count": 22,
     "metadata": {},
     "output_type": "execute_result"
    }
   ],
   "source": [
    "\n",
    "sklearn_model = mlflow.sklearn.load_model(model_dir)\n",
    "sklearn_model"
   ]
  },
  {
   "cell_type": "markdown",
   "metadata": {},
   "source": [
    "## Train model on training data set"
   ]
  },
  {
   "cell_type": "code",
   "execution_count": 23,
   "metadata": {},
   "outputs": [
    {
     "data": {
      "text/plain": [
       "XGBRegressor(base_score=0.5, booster='gbtree', colsample_bylevel=1,\n",
       "       colsample_bytree=1, gamma=0, learning_rate=0.058512491882074746,\n",
       "       max_delta_step=0, max_depth=6, min_child_weight=1, missing=nan,\n",
       "       n_estimators=453, n_jobs=1, nthread=None, objective='reg:linear',\n",
       "       random_state=13, reg_alpha=0, reg_lambda=1, scale_pos_weight=1,\n",
       "       seed=None, silent=True, subsample=1)"
      ]
     },
     "execution_count": 23,
     "metadata": {},
     "output_type": "execute_result"
    }
   ],
   "source": [
    "sklearn_model.fit(data['train_x'],data['train_y'].quality)"
   ]
  },
  {
   "cell_type": "markdown",
   "metadata": {},
   "source": [
    "## Caclulate score on test data set"
   ]
  },
  {
   "cell_type": "code",
   "execution_count": 24,
   "metadata": {},
   "outputs": [
    {
     "data": {
      "text/plain": [
       "0.5009089293046418"
      ]
     },
     "execution_count": 24,
     "metadata": {},
     "output_type": "execute_result"
    }
   ],
   "source": [
    "sklearn_model.score(data['test_x'],data['test_y'].quality)"
   ]
  },
  {
   "cell_type": "markdown",
   "metadata": {},
   "source": [
    "## Retrieve saved metric from training run"
   ]
  },
  {
   "cell_type": "code",
   "execution_count": 25,
   "metadata": {},
   "outputs": [
    {
     "name": "stdout",
     "output_type": "stream",
     "text": [
      "r2 0.500908929305\n"
     ]
    }
   ],
   "source": [
    "run_info = client.get_run(RUN_UUID)\n",
    "for m in run_info.data.metrics:\n",
    "    print(m.key, m.value)"
   ]
  },
  {
   "cell_type": "markdown",
   "metadata": {},
   "source": [
    "## Clean up"
   ]
  },
  {
   "cell_type": "code",
   "execution_count": 15,
   "metadata": {},
   "outputs": [],
   "source": [
    "shutil.rmtree(data_dir)\n",
    "shutil.rmtree(model_dir)"
   ]
  },
  {
   "cell_type": "code",
   "execution_count": null,
   "metadata": {},
   "outputs": [],
   "source": []
  }
 ],
 "metadata": {
  "kernelspec": {
   "display_name": "Python 3",
   "language": "python",
   "name": "python3"
  },
  "language_info": {
   "codemirror_mode": {
    "name": "ipython",
    "version": 3
   },
   "file_extension": ".py",
   "mimetype": "text/x-python",
   "name": "python",
   "nbconvert_exporter": "python",
   "pygments_lexer": "ipython3",
   "version": "3.7.2"
  }
 },
 "nbformat": 4,
 "nbformat_minor": 2
}
