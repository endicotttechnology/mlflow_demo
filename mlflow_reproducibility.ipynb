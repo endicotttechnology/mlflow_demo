{
 "cells": [
  {
   "cell_type": "markdown",
   "metadata": {},
   "source": [
    "# mlflow Reproducibility\n",
    "\n",
    "This notebook demonstrates mlflow's capability to reproduce results from experimental runs.\n",
    "\n",
    "By providing the unique identifier for a run, this notebook will retrieve the model and training and test data sets for that run, retrain the model on the training data and calculate the metric score on the test data."
   ]
  },
  {
   "cell_type": "code",
   "execution_count": 1,
   "metadata": {},
   "outputs": [],
   "source": [
    "from __future__ import print_function"
   ]
  },
  {
   "cell_type": "code",
   "execution_count": 2,
   "metadata": {},
   "outputs": [],
   "source": [
    "import os\n",
    "import os.path\n",
    "import socket\n",
    "import pandas as pd\n",
    "import tempfile\n",
    "import pickle\n",
    "import shutil\n",
    "import scipy.stats\n",
    "from sklearn.model_selection import RandomizedSearchCV, train_test_split\n",
    "from sklearn.linear_model import ElasticNet\n",
    "import mlflow\n",
    "import mlflow.sklearn\n",
    "import mlflow.tracking\n"
   ]
  },
  {
   "cell_type": "markdown",
   "metadata": {},
   "source": [
    "## Set up connection to mlflow tracking server"
   ]
  },
  {
   "cell_type": "code",
   "execution_count": 3,
   "metadata": {},
   "outputs": [],
   "source": [
    "host_name = \"tracking\" #socket.gethostname()\n",
    "BASE_URL = 'http://' + host_name +':5000'\n",
    "\n",
    "\n",
    "client = mlflow.tracking.MlflowClient(BASE_URL)\n"
   ]
  },
  {
   "cell_type": "code",
   "execution_count": 4,
   "metadata": {},
   "outputs": [
    {
     "name": "stdout",
     "output_type": "stream",
     "text": [
      "experiement: mlflow_demo1\n",
      "experiement: mlflow_demo2\n"
     ]
    }
   ],
   "source": [
    "for e in client.list_experiments():\n",
    "    print('experiement:', e.name)"
   ]
  },
  {
   "cell_type": "markdown",
   "metadata": {},
   "source": [
    "## Specify Run identifier to retrieve model and data"
   ]
  },
  {
   "cell_type": "code",
   "execution_count": 5,
   "metadata": {},
   "outputs": [],
   "source": [
    "RUN_UUID = '8b7723d9793948ebb3db767e1716c89a'"
   ]
  },
  {
   "cell_type": "markdown",
   "metadata": {},
   "source": [
    "## Retrieve training/test data sets from run"
   ]
  },
  {
   "cell_type": "code",
   "execution_count": 6,
   "metadata": {},
   "outputs": [
    {
     "name": "stdout",
     "output_type": "stream",
     "text": [
      "contents of data download directory /tmp/tmp70tj828f/data_sets ['data.pkl']\n"
     ]
    }
   ],
   "source": [
    "# retrieve pickled data file\n",
    "data_dir = client.download_artifacts(RUN_UUID,'data_sets')\n",
    "print(\"contents of data download directory\",data_dir,os.listdir(data_dir))\n"
   ]
  },
  {
   "cell_type": "code",
   "execution_count": 7,
   "metadata": {},
   "outputs": [
    {
     "data": {
      "text/plain": [
       "'/tmp/tmp70tj828f/data_sets/data.pkl'"
      ]
     },
     "execution_count": 7,
     "metadata": {},
     "output_type": "execute_result"
    }
   ],
   "source": [
    "os.path.join(data_dir,os.listdir(data_dir)[0])"
   ]
  },
  {
   "cell_type": "code",
   "execution_count": 8,
   "metadata": {},
   "outputs": [],
   "source": [
    "# unpickle training and test data\n",
    "with open(os.path.join(data_dir,os.listdir(data_dir)[0]),'rb') as f:\n",
    "    data = pickle.load(f)"
   ]
  },
  {
   "cell_type": "code",
   "execution_count": 9,
   "metadata": {},
   "outputs": [
    {
     "data": {
      "text/plain": [
       "array([[7.2000e+00, 2.4000e-01, 2.4000e-01, 1.7000e+00, 4.5000e-02,\n",
       "        1.8000e+01, 1.6100e+02, 9.9196e-01, 3.2500e+00, 5.3000e-01,\n",
       "        1.1200e+01],\n",
       "       [7.6000e+00, 3.3000e-01, 4.1000e-01, 1.3700e+01, 4.5000e-02,\n",
       "        4.4000e+01, 1.9700e+02, 9.9890e-01, 3.1800e+00, 6.4000e-01,\n",
       "        9.1000e+00],\n",
       "       [7.0000e+00, 2.7000e-01, 3.2000e-01, 6.8000e+00, 4.7000e-02,\n",
       "        4.7000e+01, 1.9300e+02, 9.9380e-01, 3.2300e+00, 3.9000e-01,\n",
       "        1.1400e+01],\n",
       "       [7.2000e+00, 2.0000e-01, 3.4000e-01, 2.7000e+00, 3.2000e-02,\n",
       "        4.9000e+01, 1.5100e+02, 9.9000e-01, 3.1600e+00, 3.9000e-01,\n",
       "        1.2700e+01],\n",
       "       [5.7000e+00, 2.5500e-01, 6.5000e-01, 1.2000e+00, 7.9000e-02,\n",
       "        1.7000e+01, 1.3700e+02, 9.9307e-01, 3.2000e+00, 4.2000e-01,\n",
       "        9.4000e+00]])"
      ]
     },
     "execution_count": 9,
     "metadata": {},
     "output_type": "execute_result"
    }
   ],
   "source": [
    "data['train_x'][:5]"
   ]
  },
  {
   "cell_type": "markdown",
   "metadata": {},
   "source": [
    "## Retrieve Model"
   ]
  },
  {
   "cell_type": "code",
   "execution_count": 10,
   "metadata": {},
   "outputs": [
    {
     "name": "stdout",
     "output_type": "stream",
     "text": [
      "contents of model download directory /tmp/tmpw4qvdxhg/best_estimator ['MLmodel', 'conda.yaml', 'model.pkl']\n"
     ]
    }
   ],
   "source": [
    "# retrieve pickled data file\n",
    "model_dir = client.download_artifacts(RUN_UUID,'best_estimator')\n",
    "print(\"contents of model download directory\",model_dir,os.listdir(model_dir))\n"
   ]
  },
  {
   "cell_type": "code",
   "execution_count": 11,
   "metadata": {},
   "outputs": [
    {
     "data": {
      "text/plain": [
       "MLPRegressor(activation='relu', alpha=0.0001, batch_size='auto', beta_1=0.9,\n",
       "       beta_2=0.999, early_stopping=False, epsilon=1e-08,\n",
       "       hidden_layer_sizes=(10,), learning_rate='constant',\n",
       "       learning_rate_init=0.001, max_iter=1422, momentum=0.9,\n",
       "       n_iter_no_change=10, nesterovs_momentum=True, power_t=0.5,\n",
       "       random_state=13, shuffle=True, solver='adam', tol=0.0001,\n",
       "       validation_fraction=0.1, verbose=False, warm_start=False)"
      ]
     },
     "execution_count": 11,
     "metadata": {},
     "output_type": "execute_result"
    }
   ],
   "source": [
    "\n",
    "sklearn_model = mlflow.sklearn.load_model(model_dir)\n",
    "sklearn_model"
   ]
  },
  {
   "cell_type": "markdown",
   "metadata": {},
   "source": [
    "## Train model on training data set"
   ]
  },
  {
   "cell_type": "code",
   "execution_count": 12,
   "metadata": {},
   "outputs": [
    {
     "data": {
      "text/plain": [
       "MLPRegressor(activation='relu', alpha=0.0001, batch_size='auto', beta_1=0.9,\n",
       "       beta_2=0.999, early_stopping=False, epsilon=1e-08,\n",
       "       hidden_layer_sizes=(10,), learning_rate='constant',\n",
       "       learning_rate_init=0.001, max_iter=1422, momentum=0.9,\n",
       "       n_iter_no_change=10, nesterovs_momentum=True, power_t=0.5,\n",
       "       random_state=13, shuffle=True, solver='adam', tol=0.0001,\n",
       "       validation_fraction=0.1, verbose=False, warm_start=False)"
      ]
     },
     "execution_count": 12,
     "metadata": {},
     "output_type": "execute_result"
    }
   ],
   "source": [
    "sklearn_model.fit(data['train_x'],data['train_y'].quality)"
   ]
  },
  {
   "cell_type": "markdown",
   "metadata": {},
   "source": [
    "## Caclulate score on test data set"
   ]
  },
  {
   "cell_type": "code",
   "execution_count": 13,
   "metadata": {},
   "outputs": [
    {
     "data": {
      "text/plain": [
       "0.11822332084789977"
      ]
     },
     "execution_count": 13,
     "metadata": {},
     "output_type": "execute_result"
    }
   ],
   "source": [
    "sklearn_model.score(data['test_x'],data['test_y'].quality)"
   ]
  },
  {
   "cell_type": "markdown",
   "metadata": {},
   "source": [
    "## Retrieve saved metric from training run"
   ]
  },
  {
   "cell_type": "code",
   "execution_count": 14,
   "metadata": {},
   "outputs": [
    {
     "name": "stdout",
     "output_type": "stream",
     "text": [
      "r2 0.118223320848\n"
     ]
    }
   ],
   "source": [
    "run_info = client.get_run(RUN_UUID)\n",
    "for m in run_info.data.metrics:\n",
    "    print(m.key, m.value)"
   ]
  },
  {
   "cell_type": "markdown",
   "metadata": {},
   "source": [
    "## Clean up"
   ]
  },
  {
   "cell_type": "code",
   "execution_count": 15,
   "metadata": {},
   "outputs": [],
   "source": [
    "shutil.rmtree(data_dir)\n",
    "shutil.rmtree(model_dir)"
   ]
  },
  {
   "cell_type": "code",
   "execution_count": null,
   "metadata": {},
   "outputs": [],
   "source": []
  }
 ],
 "metadata": {
  "kernelspec": {
   "display_name": "Python 3",
   "language": "python",
   "name": "python3"
  },
  "language_info": {
   "codemirror_mode": {
    "name": "ipython",
    "version": 3
   },
   "file_extension": ".py",
   "mimetype": "text/x-python",
   "name": "python",
   "nbconvert_exporter": "python",
   "pygments_lexer": "ipython3",
   "version": "3.7.1"
  }
 },
 "nbformat": 4,
 "nbformat_minor": 2
}
